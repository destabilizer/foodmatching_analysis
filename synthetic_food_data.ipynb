{
 "cells": [
  {
   "cell_type": "code",
   "execution_count": 36,
   "metadata": {},
   "outputs": [],
   "source": [
    "import pandas as pd\n",
    "import numpy as np\n",
    "import random"
   ]
  },
  {
   "cell_type": "code",
   "execution_count": 3,
   "metadata": {},
   "outputs": [],
   "source": [
    "names = list(map(lambda w: w.strip(), open(\"synthetic_names.txt\").readlines()))"
   ]
  },
  {
   "cell_type": "code",
   "execution_count": 26,
   "metadata": {},
   "outputs": [],
   "source": [
    "lat_0, lon_0, lat_1, lon_1 = 55.781142, 37.565738, 55.718153, 37.701711"
   ]
  },
  {
   "cell_type": "code",
   "execution_count": 35,
   "metadata": {},
   "outputs": [],
   "source": [
    "weekdays = ['Monday', 'Tuesday', 'Wednesday', 'Thursday', 'Friday', 'Saturday', 'Sunday']"
   ]
  },
  {
   "cell_type": "code",
   "execution_count": 34,
   "metadata": {},
   "outputs": [],
   "source": [
    "foodcats = [\"Bakery\", \"Garniers\", \"Main\" ,\"Salads\", \"Soups\"]"
   ]
  },
  {
   "cell_type": "code",
   "execution_count": 47,
   "metadata": {},
   "outputs": [],
   "source": [
    "def choose_pair():\n",
    "    f = random.randrange(0, len(foodcats))\n",
    "    s = random.randrange(0, len(foodcats)-1)\n",
    "    if s >= f: s += 1\n",
    "    return foodcats[f], foodcats[s]"
   ]
  },
  {
   "cell_type": "code",
   "execution_count": 87,
   "metadata": {},
   "outputs": [],
   "source": [
    "def generate_restaurant(name):\n",
    "    d = dict(zip(foodcats, [0]*len(foodcats)))\n",
    "    d['Cafes'] = name\n",
    "    center = np.random.uniform(3, 10)\n",
    "    fuzziness = np.random.uniform(0.1, 0.5)\n",
    "    wdays = np.random.normal(loc=center, scale=center*fuzziness, size=(7,))\n",
    "    d.update(zip(weekdays, wdays))\n",
    "    lat, lon = np.random.uniform(lat_0, lat_1), np.random.uniform(lon_0, lon_1)\n",
    "    d['latitude'], d['longitude'] = lat, lon\n",
    "    f1, f2 = choose_pair()\n",
    "    f1_amount = random.randrange(0, 101); f2_amount = 100 - f1_amount\n",
    "    d[f1] = f1_amount; d[f2] = f2_amount\n",
    "    specifity = np.random.choice(np.arange(0, 3), p=[0.7, 0.2, 0.1])\n",
    "    vegan     = np.random.choice(np.arange(0, 3), p=[0.7, 0.2, 0.1])\n",
    "    d['vegan'] = vegan; d['Specificity'] = specifity\n",
    "    return d"
   ]
  },
  {
   "cell_type": "code",
   "execution_count": 88,
   "metadata": {},
   "outputs": [],
   "source": [
    "l = list()\n",
    "for name in names:\n",
    "    l.append(generate_restaurant(name))\n",
    "sd = pd.DataFrame(l)"
   ]
  },
  {
   "cell_type": "code",
   "execution_count": 90,
   "metadata": {},
   "outputs": [],
   "source": [
    "sd.to_csv(\"synthetic_data.csv\")"
   ]
  },
  {
   "cell_type": "code",
   "execution_count": null,
   "metadata": {},
   "outputs": [],
   "source": []
  }
 ],
 "metadata": {
  "kernelspec": {
   "display_name": "Python 3",
   "language": "python",
   "name": "python3"
  },
  "language_info": {
   "codemirror_mode": {
    "name": "ipython",
    "version": 3
   },
   "file_extension": ".py",
   "mimetype": "text/x-python",
   "name": "python",
   "nbconvert_exporter": "python",
   "pygments_lexer": "ipython3",
   "version": "3.7.6"
  }
 },
 "nbformat": 4,
 "nbformat_minor": 2
}
